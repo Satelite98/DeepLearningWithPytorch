{
 "cells": [
  {
   "cell_type": "markdown",
   "id": "5162aca7",
   "metadata": {},
   "source": [
    "   **中间表征序列：** 深度神经网络通常在不同的阶段学习，将数据从一种形式转化为另一种形式，这样每个阶段的数据可以被认为是一个中间表征序列。\n",
    "   \n",
    "   一般来说，中间表征是浮点数的集合。中间表征是输入与前一层神经元的权重结合的结果。整个过程可以分为三个阶段：输入表征->中间表征（网络计算处理）->输出表征。"
   ]
  },
  {
   "cell_type": "code",
   "execution_count": 2,
   "id": "88c8c86d",
   "metadata": {},
   "outputs": [
    {
     "name": "stdout",
     "output_type": "stream",
     "text": [
      "a[0] =  1.0\n",
      "a[2] =  3.0\n",
      "a =  [1.0, 2.0, 3.0]\n"
     ]
    }
   ],
   "source": [
    "#pytorch 并不是唯一能够处理张量的多维数组的库，NumPy也可以，Pytorch的优点子在于能够在GPU上处理，特别快\n",
    "a = [1.0,2.0,3.0]\n",
    "print('a[0] = ',a[0])\n",
    "print('a[2] = ',a[2])\n",
    "print('a = ',a)"
   ]
  },
  {
   "cell_type": "markdown",
   "id": "6d8d6704",
   "metadata": {},
   "source": [
    "这里会涉及到浮点数在计算机中是如何处理的，可以参考这篇文章：https://blog.csdn.net/muxuen/article/details/122413138\n",
    "\n",
    "总的来说，要明确三个点：\n",
    "1. 浮点数的二进制表示，以小数点为界限，**小数点之后的bit分别表示2(-1)次方、2（-2）次方、2(-3)次方**这样[0.5、0.25、0.125、]......由此5.5 就可以表示为101.1\n",
    "2. 根据IEEE标准，任何一个浮点数都可以表示为：（-1）S次方*M*2的E次方，其中S是符号位，M是有效数字，大于等于1，小于2，E次方表示指数位。\n",
    "3. 转化并存储：5.5 表示为2进制为101.1，也就是表示为 1.011 * 2^2。所以此时我们可以知道S=0、M=1.011、E=2。IEEE规定：对于Float 按照1bit(S)+8bit(E)+23bit(M)存储。由于**M**是一个大于1小于2的数字，**所以我们可以省略1，只存小数位，补到23位**。所以5.5的32bit存储二进制是：0 00000010 0110000000000000000000\n"
   ]
  },
  {
   "cell_type": "code",
   "execution_count": 3,
   "id": "c0a952b2",
   "metadata": {},
   "outputs": [
    {
     "name": "stdout",
     "output_type": "stream",
     "text": [
      "a= tensor([1., 1., 1.])\n",
      "c= tensor([1., 1., 1., 1.])\n"
     ]
    }
   ],
   "source": [
    "import torch\n",
    "a = torch.ones(3)\n",
    "c = torch.ones(4)\n",
    "print('a=',a)\n",
    "print('c=',c)"
   ]
  },
  {
   "cell_type": "code",
   "execution_count": 4,
   "id": "b02ce0f8",
   "metadata": {},
   "outputs": [
    {
     "name": "stdout",
     "output_type": "stream",
     "text": [
      "tensor([[4., 1.],\n",
      "        [5., 3.],\n",
      "        [2., 1.]])\n",
      "ponit[0] =  tensor([2., 1.])\n",
      "ponit shape =  torch.Size([3, 2])\n",
      "point 1 L1 tensor(3.)\n",
      "***set points zeros****\n",
      "tensor([[0., 0.],\n",
      "        [0., 0.],\n",
      "        [0., 0.]])\n"
     ]
    }
   ],
   "source": [
    "# 能够构造一个2维张量，以更好的描述坐标\n",
    "points = torch.tensor([[4.0, 1.0], [5.0, 3.0], [2.0, 1.0]]) \n",
    "print(points)\n",
    "print('ponit[0] = ',points[2])\n",
    "print('ponit shape = ',points.shape)\n",
    "\n",
    "# 我们还可以访问张量某个维度上的数据\n",
    "print('point 1 L1',points[1,1])\n",
    "\n",
    "# 我们也可以将张量设置为\n",
    "points  = torch.zeros(3,2)\n",
    "print('***set points zeros****')\n",
    "print(points)\n",
    "\n"
   ]
  },
  {
   "cell_type": "code",
   "execution_count": 5,
   "id": "d8da323b",
   "metadata": {},
   "outputs": [
    {
     "data": {
      "text/plain": [
       "[0, 1, 2, 3, 4]"
      ]
     },
     "execution_count": 5,
     "metadata": {},
     "output_type": "execute_result"
    }
   ],
   "source": [
    "# 索引张量的办法：\n",
    "some_list = list(range(6))\n",
    "some_list[:-1]"
   ]
  },
  {
   "cell_type": "code",
   "execution_count": 6,
   "id": "d044b634",
   "metadata": {},
   "outputs": [
    {
     "data": {
      "text/plain": [
       "tensor([[0., 0.],\n",
       "        [0., 0.]])"
      ]
     },
     "execution_count": 6,
     "metadata": {},
     "output_type": "execute_result"
    }
   ],
   "source": [
    "#和数组的访问方式一致。\n",
    "points[:-1]"
   ]
  },
  {
   "cell_type": "code",
   "execution_count": 17,
   "id": "66b7b753",
   "metadata": {},
   "outputs": [
    {
     "data": {
      "text/plain": [
       "tensor([[[[-1.0066,  0.5398,  1.3670,  0.5633, -0.5276],\n",
       "          [-1.2130,  0.5627,  1.3065, -1.7799,  0.3673],\n",
       "          [ 0.0655,  0.2085, -0.4195,  0.0607, -0.5856],\n",
       "          [ 1.9383,  1.4453,  0.8182,  0.8767,  0.8635],\n",
       "          [ 0.4700, -0.1033, -0.8956,  0.4473, -1.1671]],\n",
       "\n",
       "         [[ 2.2497, -0.3298, -0.7544, -0.6400,  1.0468],\n",
       "          [ 0.4607,  0.1819,  0.3078,  0.4762,  0.1648],\n",
       "          [ 0.3068,  0.7407, -0.2266,  0.2756,  1.0969],\n",
       "          [-0.6963,  1.4398,  0.1238, -1.3020,  1.1799],\n",
       "          [ 2.5278,  0.3910,  0.7166,  0.8458,  0.6453]],\n",
       "\n",
       "         [[-0.0094,  0.9740,  0.2544, -0.1355, -0.8139],\n",
       "          [-0.2525, -1.3123,  0.1937, -0.4743, -0.8606],\n",
       "          [-0.7664,  0.2776, -0.1675,  0.2642, -0.9413],\n",
       "          [-0.8726,  1.4890,  0.9600,  1.3182,  1.2033],\n",
       "          [ 2.4141,  2.6815,  0.9227,  1.4274, -1.9730]]],\n",
       "\n",
       "\n",
       "        [[[ 1.0401,  1.1209,  0.0582, -0.4325, -0.4368],\n",
       "          [ 0.4778, -0.0999,  0.5760,  0.2833,  1.3760],\n",
       "          [-0.7864,  0.2333, -0.7473, -1.6223, -1.8085],\n",
       "          [-0.3217, -0.0260,  0.7949, -0.9689, -0.2606],\n",
       "          [ 0.9639,  0.2174,  0.4302, -1.0260, -0.0329]],\n",
       "\n",
       "         [[ 0.6229, -0.6357, -2.5107,  0.8199, -0.7915],\n",
       "          [-0.1948, -0.3624, -0.6909,  0.6890, -0.8006],\n",
       "          [ 1.5140, -0.9905, -0.0678, -0.8423, -0.8793],\n",
       "          [ 1.0111, -0.2731,  1.6241, -0.7275,  1.2351],\n",
       "          [-0.4668, -0.5443,  1.4216, -0.6505, -0.5006]],\n",
       "\n",
       "         [[ 0.5863, -1.7663,  1.5686,  1.0518,  0.7639],\n",
       "          [-1.1625, -1.1353,  1.5458, -1.2014,  0.6510],\n",
       "          [-0.0097,  0.0288,  0.9129,  0.6704, -0.3393],\n",
       "          [-0.4402,  0.0487,  1.5144,  0.4365, -1.8846],\n",
       "          [ 0.5731, -0.4652, -0.4126, -0.6075, -1.5339]]]])"
      ]
     },
     "execution_count": 17,
     "metadata": {},
     "output_type": "execute_result"
    }
   ],
   "source": [
    "img_t = torch.randn(3, 5, 5)\n",
    "weights = torch.tensor([0.2126, 0.7152, 0.0722]) \n",
    "batch_t = torch.randn(2, 3, 5, 5)\n",
    "batch_t"
   ]
  },
  {
   "cell_type": "code",
   "execution_count": 18,
   "id": "a1744a43",
   "metadata": {},
   "outputs": [
    {
     "data": {
      "text/plain": [
       "(tensor([[-0.4032, -0.5035,  0.1115, -0.2094, -0.1181],\n",
       "         [-0.2813,  1.0325,  0.2291,  0.1848, -0.8712],\n",
       "         [-0.8940,  0.0269,  0.6597,  0.5079, -0.6508],\n",
       "         [ 1.2829, -0.5414,  0.3235, -0.0043,  0.0347],\n",
       "         [ 0.6773,  0.3196,  0.3455,  0.0138,  0.0927]]),\n",
       " torch.Size([5, 5]))"
      ]
     },
     "execution_count": 18,
     "metadata": {},
     "output_type": "execute_result"
    }
   ],
   "source": [
    "# 在RGB维度取平均值，所以是一个(5.5)的平均值\n",
    "img_gray_naive = img_t.mean(-3)\n",
    "img_gray_naive,img_gray_naive.shape"
   ]
  },
  {
   "cell_type": "code",
   "execution_count": 19,
   "id": "27957397",
   "metadata": {
    "scrolled": true
   },
   "outputs": [
    {
     "data": {
      "text/plain": [
       "(tensor([[[ 0.4112,  0.3946,  0.2890, -0.0707, -0.0982],\n",
       "          [-0.3350, -0.1892,  0.6027, -0.5927, -0.1095],\n",
       "          [-0.1314,  0.4089, -0.2712,  0.2002, -0.1434],\n",
       "          [ 0.1231,  1.4580,  0.6340,  0.2976,  1.0822],\n",
       "          [ 1.8040,  0.9897,  0.2479,  0.9068, -0.8316]],\n",
       " \n",
       "         [[ 0.7498, -0.4271, -0.2946,  0.4797, -0.1548],\n",
       "          [-0.2932, -0.5325,  0.4769, -0.0764,  0.4088],\n",
       "          [ 0.2393, -0.2428,  0.0326, -0.5981, -1.0090],\n",
       "          [ 0.0831, -0.0835,  1.3111, -0.4199, -0.3033],\n",
       "          [ 0.3567, -0.2641,  0.4797, -0.7613, -0.6892]]]),\n",
       " torch.Size([2, 5, 5]))"
      ]
     },
     "execution_count": 19,
     "metadata": {},
     "output_type": "execute_result"
    }
   ],
   "source": [
    "batch_gray_naive = batch_t.mean(-3)\n",
    "batch_gray_naive,batch_gray_naive.shape"
   ]
  },
  {
   "cell_type": "code",
   "execution_count": 25,
   "id": "0359a6d1",
   "metadata": {},
   "outputs": [
    {
     "name": "stdout",
     "output_type": "stream",
     "text": [
      "tensor([[[0.2126]],\n",
      "\n",
      "        [[0.7152]],\n",
      "\n",
      "        [[0.0722]]])\n",
      "torch.Size([3, 1, 1])\n",
      "tensor([[[ 8.1483e-03, -1.7601e-01,  2.4756e-01, -1.0089e-03,  1.6546e-02],\n",
      "         [-2.9853e-02,  2.1485e-01,  8.2310e-02,  1.9009e-01, -3.1657e-01],\n",
      "         [-2.8195e-01, -2.1519e-02,  1.4861e-01,  3.7039e-01, -2.0486e-01],\n",
      "         [ 2.0189e-01, -2.1594e-01,  1.4745e-02,  3.3817e-01, -1.1555e-01],\n",
      "         [ 1.1924e-01, -3.2144e-02,  4.2817e-02,  2.5524e-01, -3.7281e-03]],\n",
      "\n",
      "        [[-5.8038e-01, -6.6746e-01, -6.1978e-01, -4.8957e-01, -8.6978e-01],\n",
      "         [ 2.7682e-01,  6.7806e-01,  2.1440e-01, -5.8640e-01, -3.7706e-01],\n",
      "         [-9.4812e-01,  4.4822e-01,  5.5051e-01,  1.7222e-01, -8.5749e-01],\n",
      "         [ 9.9911e-01,  3.1783e-01,  9.3610e-01,  8.9074e-02, -7.9315e-01],\n",
      "         [-1.2856e-01,  1.0573e+00, -1.0299e-01,  4.0123e-01,  8.7384e-02]],\n",
      "\n",
      "        [[-3.1506e-02,  1.8089e-02,  2.6416e-03,  4.4045e-03,  5.6612e-02],\n",
      "         [-7.8745e-02,  8.2229e-02,  3.4078e-05,  3.4666e-02, -4.3136e-02],\n",
      "         [-2.1796e-03, -3.2119e-02,  3.6850e-02, -3.3158e-02,  1.5174e-02],\n",
      "         [ 1.0846e-01, -7.6018e-02, -2.9435e-02, -1.2476e-01,  1.2684e-01],\n",
      "         [ 1.1919e-01, -2.6588e-02,  7.0693e-02, -1.2419e-01,  1.2524e-02]]])\n",
      "tensor([[-0.6037, -0.8254, -0.3696, -0.4862, -0.7966],\n",
      "        [ 0.1682,  0.9751,  0.2967, -0.3616, -0.7368],\n",
      "        [-1.2323,  0.3946,  0.7360,  0.5095, -1.0472],\n",
      "        [ 1.3095,  0.0259,  0.9214,  0.3025, -0.7819],\n",
      "        [ 0.1099,  0.9985,  0.0105,  0.5323,  0.0962]])\n"
     ]
    }
   ],
   "source": [
    "#pytorch 中有两种乘法，一种是‘*’其实就是按对应位置的元素相乘。另一种是'@'乘，这种就是矩阵乘法。\n",
    "#unsqueezed_weights = weights.unsqueeze(-1).unsqueeze_(-1) \n",
    "print(unsqueezed_weights)\n",
    "print(unsqueezed_weights.shape)\n",
    "img_weights = (img_t * unsqueezed_weights) \n",
    "batch_weights = (batch_t * unsqueezed_weights) \n",
    "img_gray_weighted = img_weights.sum(-3) \n",
    "batch_gray_weighted = batch_weights.sum(-3) \n",
    "batch_weights.shape, batch_t.shape, unsqueezed_weights.shape \n",
    "print(img_weights)\n",
    "print(img_gray_weighted)\n"
   ]
  },
  {
   "cell_type": "code",
   "execution_count": null,
   "id": "4bb66870",
   "metadata": {},
   "outputs": [],
   "source": []
  }
 ],
 "metadata": {
  "kernelspec": {
   "display_name": "Python 3",
   "language": "python",
   "name": "python3"
  },
  "language_info": {
   "codemirror_mode": {
    "name": "ipython",
    "version": 3
   },
   "file_extension": ".py",
   "mimetype": "text/x-python",
   "name": "python",
   "nbconvert_exporter": "python",
   "pygments_lexer": "ipython3",
   "version": "3.6.13"
  }
 },
 "nbformat": 4,
 "nbformat_minor": 5
}

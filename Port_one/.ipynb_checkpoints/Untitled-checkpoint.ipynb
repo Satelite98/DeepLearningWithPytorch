{
 "cells": [
  {
   "cell_type": "markdown",
   "id": "5162aca7",
   "metadata": {},
   "source": [
    "   **中间表征序列：** 深度神经网络通常在不同的阶段学习，将数据从一种形式转化为另一种形式，这样每个阶段的数据可以被认为是一个中间表征序列。\n",
    "   \n",
    "   一般来说，中间表征是浮点数的集合。中间表征是输入与前一层神经元的权重结合的结果。整个过程可以分为三个阶段：输入表征->中间表征（网络计算处理）->输出表征。"
   ]
  },
  {
   "cell_type": "code",
   "execution_count": 3,
   "id": "88c8c86d",
   "metadata": {},
   "outputs": [
    {
     "name": "stdout",
     "output_type": "stream",
     "text": [
      "a[0] =  1.0\n",
      "a[2] =  3.0\n",
      "a =  [1.0, 2.0, 3.0]\n"
     ]
    }
   ],
   "source": [
    "#pytorch 并不是唯一能够处理张量的多维数组的库，NumPy也可以，Pytorch的优点子在于能够在GPU上处理，特别快\n",
    "a = [1.0,2.0,3.0]\n",
    "print('a[0] = ',a[0])\n",
    "print('a[2] = ',a[2])\n",
    "print('a = ',a)"
   ]
  },
  {
   "cell_type": "markdown",
   "id": "6d8d6704",
   "metadata": {},
   "source": [
    "这里会涉及到浮点数在计算机中是如何处理的，可以参考这篇文章：https://blog.csdn.net/muxuen/article/details/122413138\n",
    "\n",
    "总的来说，要明确三个点：\n",
    "1. 浮点数的二进制表示，以小数点为界限，**小数点之后的bit分别表示2(-1)次方、2（-2）次方、2(-3)次方**这样[0.5、0.25、0.125、]......由此5.5 就可以表示为101.1\n",
    "2. 根据IEEE标准，任何一个浮点数都可以表示为：（-1）S次方*M*2的E次方，其中S是符号位，M是有效数字，大于等于1，小于2，E次方表示指数位。\n",
    "3. 转化并存储：5.5 表示为2进制为101.1，也就是表示为 1.011 * 2^2。所以此时我们可以知道S=0、M=1.011、E=2。IEEE规定：对于Float 按照1bit(S)+8bit(E)+23bit(M)存储。由于**M**是一个大于1小于2的数字，**所以我们可以省略1，只存小数位，补到23位**。所以5.5的32bit存储二进制是：0 00000010 0110000000000000000000\n"
   ]
  },
  {
   "cell_type": "code",
   "execution_count": 7,
   "id": "c0a952b2",
   "metadata": {},
   "outputs": [
    {
     "name": "stdout",
     "output_type": "stream",
     "text": [
      "a= tensor([1., 1., 1.])\n",
      "c= tensor([1., 1., 1., 1.])\n"
     ]
    }
   ],
   "source": [
    "import torch\n",
    "a = torch.ones(3)\n",
    "c = torch.ones(4)\n",
    "print('a=',a)\n",
    "print('c=',c)"
   ]
  },
  {
   "cell_type": "code",
   "execution_count": null,
   "id": "b02ce0f8",
   "metadata": {},
   "outputs": [],
   "source": []
  }
 ],
 "metadata": {
  "kernelspec": {
   "display_name": "Python 3",
   "language": "python",
   "name": "python3"
  },
  "language_info": {
   "codemirror_mode": {
    "name": "ipython",
    "version": 3
   },
   "file_extension": ".py",
   "mimetype": "text/x-python",
   "name": "python",
   "nbconvert_exporter": "python",
   "pygments_lexer": "ipython3",
   "version": "3.6.13"
  }
 },
 "nbformat": 4,
 "nbformat_minor": 5
}

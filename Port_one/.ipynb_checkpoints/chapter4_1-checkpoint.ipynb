{
 "cells": [
  {
   "cell_type": "markdown",
   "id": "f8444945",
   "metadata": {},
   "source": [
    "#### 4-1将图像数据转化为Tensor\n"
   ]
  },
  {
   "cell_type": "code",
   "execution_count": 11,
   "id": "e79fc9a4",
   "metadata": {},
   "outputs": [],
   "source": [
    "#加载图像，读出来是array 形式\n",
    "import imageio\n",
    "import torch\n",
    "img_arr = imageio.imread('../data/p1ch4/image-dog/bobby.jpg') \n",
    "img_t = torch.from_numpy(img_arr)\n",
    "#print(img_t)"
   ]
  },
  {
   "cell_type": "code",
   "execution_count": 17,
   "id": "c988d128",
   "metadata": {},
   "outputs": [
    {
     "data": {
      "text/plain": [
       "((3840, 3, 1),\n",
       " torch.Size([720, 1280, 3]),\n",
       " (1, 3840, 3),\n",
       " torch.Size([3, 720, 1280]))"
      ]
     },
     "execution_count": 17,
     "metadata": {},
     "output_type": "execute_result"
    }
   ],
   "source": [
    "# 利用permute()函数来改变布局，permute（2，0，1） 新的0 1 2 维度上分别是原来的\n",
    "#第（2 0 1）维度。但是这并不会改变内存布局。 原来是（HWC）->(C H W)\n",
    "out = img_t.permute(2, 0, 1) # 类似于transpose 函数\n",
    "img_t.stride(),img_t.shape,out.stride(),out.shape"
   ]
  },
  {
   "cell_type": "code",
   "execution_count": 19,
   "id": "2ef9834e",
   "metadata": {},
   "outputs": [],
   "source": [
    "#除了读数组出来转化为tensor的思路以外，我们还可以利用设置一个tensor，然后读文件数据去\n",
    "#填充的思路\n",
    "batch_size = 3\n",
    "batch = torch.zeros(batch_size,3,256,256, dtype = torch.uint8)"
   ]
  },
  {
   "cell_type": "code",
   "execution_count": 30,
   "id": "09105c4c",
   "metadata": {},
   "outputs": [
    {
     "name": "stdout",
     "output_type": "stream",
     "text": [
      "['cat1.png', 'cat2.png', 'cat3.png']\n",
      "batch shape:\n",
      "batch  0 shape: torch.Size([3, 256, 256])\n",
      "batch  1 shape: torch.Size([3, 256, 256])\n",
      "batch  2 shape: torch.Size([3, 256, 256])\n"
     ]
    }
   ],
   "source": [
    "import os\n",
    "data_dir = '../data/p1ch4/image-cats/'\n",
    "#获取该目录下所有png图片的名字\n",
    "filenames = [name for name in os.listdir(data_dir) \n",
    "             if os.path.splitext(name)[-1] == '.png'] \n",
    "print(filenames)\n",
    "for i, filename in enumerate(filenames): \n",
    "    img_arr = imageio.imread(os.path.join(data_dir,filename))\n",
    "    img_t = torch.from_numpy(img_arr)\n",
    "#     print(img_t.shape)\n",
    "    img_t = img_t.permute(2, 0, 1) # C H W-  \n",
    "#     print(img_t.shape)\n",
    "    img_t = img_t[:3] # 只要0 1 2两个维度？\n",
    "    batch[i] = img_t\n",
    "print(\"batch shape:\")\n",
    "for i ,data in enumerate(batch):\n",
    "    print(\"batch \",i,\"shape:\",data.shape)"
   ]
  },
  {
   "attachments": {
    "image.png": {
     "image/png": "[encoded data removed]"
    }
   },
   "cell_type": "markdown",
   "id": "7241c9ec",
   "metadata": {},
   "source": [
    "由于神经网络通常用浮点数张量作为输入，所以我们需要对图像的输入做：\n",
    "1. 浮点数的转化\n",
    "2. 归一化的处理。\n",
    "\n",
    "对归一化要进一步解释：\n",
    "1. **为什么要做归一化**\n",
    "\n",
    "\n",
    "归一化的主要目的是让数据范围在一定区间（如 [0, 1] 或 [-1, 1]）内，这样可以提高神经网络的训练效率和稳定性。\n",
    "1) 可以加快收敛速度，神经网络中的权重和偏执利用方向传播进行更新，如果数据范围差距很大，会导致损失安徽念书的梯度剧烈变化，优化器需要更长时间找到最优解。由此，归一化可以让梯度更加平滑，加快训练的收敛速度。\n",
    "2) 设定好数值训练范围，可以防止训练中的数据溢出\n",
    "3) 避免有输入数据的默写特征值范围远大于其他特征，在训练中占主导地位，归一化可以平衡各个特征的重要性\n",
    "\n",
    "\n",
    "总而言之，归一化可以让数据分布更加标准化，让模型更快、更好的拟合数据、避免数据溢出的风险。\n",
    "\n",
    "2. **如何进行归一化**\n",
    "\n",
    "归一化有不同的计算方法，我们分别介绍如下\n",
    "1) Min-Max Scaling (最小-最大归一化)   x` = (x - x_min)/(x_max - x_min)\n",
    "\n",
    "2) Standardization (标准化)   x` = (x - u)/(σ)\n",
    "\n",
    "3) Mean Normalization (均值归一化)   x` = (x - u) / (x_max - x_min)\n",
    "\n",
    "4) Decimal Scaling (小数缩放)\n",
    "\n",
    "其中**σ**是标准差，**u**是均值。标准差的计算方法是\n",
    "\n",
    "![image.png](attachment:image.png)"
   ]
  },
  {
   "cell_type": "code",
   "execution_count": 36,
   "id": "bfe45ded",
   "metadata": {},
   "outputs": [
    {
     "name": "stdout",
     "output_type": "stream",
     "text": [
      "3\n"
     ]
    }
   ],
   "source": [
    "batch = batch.float()\n",
    "batch /= 255.0 \n",
    "batch.shape\n",
    "print(batch.shape[1])"
   ]
  },
  {
   "cell_type": "code",
   "execution_count": 46,
   "id": "20425067",
   "metadata": {},
   "outputs": [],
   "source": [
    "n_channels = batch.shape[1] # NCHW 取C维度,就是对RGB这三个维度进行归一化处理\n",
    "for c in range(n_channels): \n",
    "    mean = torch.mean(batch[:, c])  # 这里就是获取 NCHW （N H W ）的数据切片 \n",
    "    std = torch.std(batch[:, c])\n",
    "    batch[:, c] = (batch[:, c] - mean) / std # 采用的是标准化的方式来归一化\n",
    "    #print(\"batch[:, {:}]  shape: \".format(c),batch[:, c].shape,\"\\r\\n\",batch[:, c])"
   ]
  },
  {
   "cell_type": "markdown",
   "id": "a2ed2e9b",
   "metadata": {},
   "source": [
    "读取CT扫描件　DICOM 格式。volread 会将DICOM格式读取为一个三维度数组。由于DICOM 颜色都是单通道。C=1,所以读取出来只会有三维数据 DHW."
   ]
  },
  {
   "cell_type": "code",
   "execution_count": 52,
   "id": "d4603ba3",
   "metadata": {},
   "outputs": [
    {
     "name": "stdout",
     "output_type": "stream",
     "text": [
      "Reading DICOM (examining files): 1/99 files (1.0%99/99 files (100.0%)\n",
      "  Found 1 correct series.\n",
      "Reading DICOM (loading data): 46/99  (46.596/99  (97.099/99  (100.0%)\n",
      "vol_arr shape:  (99, 512, 512)\n",
      "vol_t shape:  torch.Size([1, 99, 512, 512])\n"
     ]
    }
   ],
   "source": [
    "# 读取CT扫描样本,但是 这个并没有读出来C D通道，书上写得是 N C D H W格式\n",
    "import imageio\n",
    "#dir_path = \"W:\\apps\\pytorch\\jupyter_Notebook\\data\\p1ch4\\volumetric-dicom\\2-LUNG 3.0  B70f-04083\"\n",
    "dir_path = \"../data/p1ch4/2-LUNG\" \n",
    "vol_arr = imageio.volread(dir_path, 'DICOM')# 使用的是volread 的函数\n",
    "print(\"vol_arr shape: \",vol_arr.shape)\n",
    "#利用unsqueeze 函数来多一个patch维度。\n",
    "vol_t = torch.from_numpy(vol_arr)\n",
    "vol_t = torch.unsqueeze(vol_t,0)\n",
    "print(\"vol_t shape: \",vol_t.shape)"
   ]
  },
  {
   "cell_type": "markdown",
   "id": "c4b7358d",
   "metadata": {},
   "source": [
    "**4-3 读取表格数据**"
   ]
  },
  {
   "cell_type": "code",
   "execution_count": 62,
   "id": "64d5a682",
   "metadata": {},
   "outputs": [
    {
     "name": "stdout",
     "output_type": "stream",
     "text": [
      "(4898, 12) float32\n",
      "['\"fixed acidity\"' '\"volatile acidity\"' '\"citric acid\"' '\"residual sugar\"'\n",
      " '\"chlorides\"' '\"free sulfur dioxide\"' '\"total sulfur dioxide\"'\n",
      " '\"density\"' '\"pH\"' '\"sulphates\"' '\"alcohol\"' '\"quality\"']\n",
      "torch.Size([4898, 12]) torch.float32\n"
     ]
    },
    {
     "data": {
      "text/plain": [
       "tensor([[ 7.0000,  0.2700,  0.3600,  ...,  0.4500,  8.8000,  6.0000],\n",
       "        [ 6.3000,  0.3000,  0.3400,  ...,  0.4900,  9.5000,  6.0000],\n",
       "        [ 8.1000,  0.2800,  0.4000,  ...,  0.4400, 10.1000,  6.0000],\n",
       "        ...,\n",
       "        [ 6.5000,  0.2400,  0.1900,  ...,  0.4600,  9.4000,  6.0000],\n",
       "        [ 5.5000,  0.2900,  0.3000,  ...,  0.3800, 12.8000,  7.0000],\n",
       "        [ 6.0000,  0.2100,  0.3800,  ...,  0.3200, 11.8000,  6.0000]])"
      ]
     },
     "execution_count": 62,
     "metadata": {},
     "output_type": "execute_result"
    }
   ],
   "source": [
    "# 加载CSV文件。使用的是numpy 来读取\n",
    "import csv \n",
    "import numpy as np\n",
    "wine_path = \"../data/p1ch4/tabular-wine/winequality-white.csv\" \n",
    "# delimiter=\";\" 表示数据是以';'表示的，skiprows = 1 ,表示第一行的数据不要。\n",
    "wineq_numpy = np.loadtxt(wine_path,dtype=np.float32,delimiter=\";\",skiprows=1)\n",
    "print(wineq_numpy.shape,wineq_numpy.dtype)\n",
    "\n",
    "#读取 CSV文件的第一行表头\n",
    "#col_list = next(csv.reader(open(wine_path), delimiter=';')) \n",
    "col_list = np.loadtxt(wine_path,dtype=str,delimiter=\";\",max_rows=1)\n",
    "print(col_list)\n",
    "\n",
    "#将数据转化为tensor\n",
    "wineq_t = torch.from_numpy(wineq_numpy)\n",
    "print(wineq_t.shape,wineq_t.dtype)\n",
    "wineq_t"
   ]
  },
  {
   "cell_type": "markdown",
   "id": "e25140fd",
   "metadata": {},
   "source": [
    "关于数值的阐述：\n",
    "1. 连续值，表示是有实际意义的值，比如长度为5cm、6cm、10cm 这种类似的。\n",
    "2. 序数值：表示序列大小排列严格存在，就像小杯、中杯、大杯分别为1 2 3，但是这种没有明确的数字计算关系，不能说 3 = 2 +1 \n",
    "3. 分类值：没有明确的数学关系，只是用于分类。1表示草、2表示牛 等等\n"
   ]
  },
  {
   "cell_type": "code",
   "execution_count": 77,
   "id": "7bf6eb54",
   "metadata": {},
   "outputs": [
    {
     "data": {
      "text/plain": [
       "(tensor([[ 7.0000,  0.2700,  0.3600,  ...,  3.0000,  0.4500,  8.8000],\n",
       "         [ 6.3000,  0.3000,  0.3400,  ...,  3.3000,  0.4900,  9.5000],\n",
       "         [ 8.1000,  0.2800,  0.4000,  ...,  3.2600,  0.4400, 10.1000],\n",
       "         ...,\n",
       "         [ 6.5000,  0.2400,  0.1900,  ...,  2.9900,  0.4600,  9.4000],\n",
       "         [ 5.5000,  0.2900,  0.3000,  ...,  3.3400,  0.3800, 12.8000],\n",
       "         [ 6.0000,  0.2100,  0.3800,  ...,  3.2600,  0.3200, 11.8000]]),\n",
       " torch.Size([4898, 11]))"
      ]
     },
     "execution_count": 77,
     "metadata": {},
     "output_type": "execute_result"
    }
   ],
   "source": [
    "#对于最后一个标签“quality”，我们可以把它当作 一个实数执行回归任务。或者把\n",
    "#其当作一个标签，用于最后的分数猜测。\n",
    "\n",
    "data = wineq_t[:,:-1] # 数据删除了quality\n",
    "data,data.shape"
   ]
  },
  {
   "cell_type": "code",
   "execution_count": 74,
   "id": "1da519c9",
   "metadata": {},
   "outputs": [
    {
     "data": {
      "text/plain": [
       "(tensor([6, 6, 6,  ..., 6, 7, 6]), torch.Size([4898]), 4898)"
      ]
     },
     "execution_count": 74,
     "metadata": {},
     "output_type": "execute_result"
    }
   ],
   "source": [
    "#取出最后一列\n",
    "target = wineq_t[:,-1].long()\n",
    "target,target.shape,target.shape[0]"
   ]
  },
  {
   "attachments": {
    "image.png": {
     "image/png": "[encoded data removed]"
    }
   },
   "cell_type": "markdown",
   "id": "437ad31a",
   "metadata": {},
   "source": [
    "接下来我们将会使用one-hot encoding。One-Hot Encoding 是一种将分类数据（即非数值数据，如类别标签）转换为数值表示的技术，主要用于机器学习和深度学习中处理离散数据。假设我们有一个分类变量（例如颜色类别）：[\"Red\", \"Green\", \"Blue\"]。如果直接将这些类别用数字表示（如 0, 1, 2），会让模型误以为这些数字之间有大小关系或连续性（即模型可能会认为 2 > 1 > 0），这会导致错误的学习结果。为了解决这个问题，One-Hot Encoding 将每个类别表示为一个独立的二进制向量：\n",
    "\n",
    "* 每个类别的向量中，只有一个位置是 1，其他位置是 0。\n",
    "* 向量的长度等于类别的总数。\n",
    "就会变成下面这样\n",
    "![image.png](attachment:image.png)"
   ]
  },
  {
   "cell_type": "code",
   "execution_count": 76,
   "id": "8deebc43",
   "metadata": {},
   "outputs": [
    {
     "name": "stdout",
     "output_type": "stream",
     "text": [
      "tensor([[6],\n",
      "        [6],\n",
      "        [6],\n",
      "        ...,\n",
      "        [6],\n",
      "        [7],\n",
      "        [6]])\n"
     ]
    },
    {
     "data": {
      "text/plain": [
       "tensor([[0., 0., 0.,  ..., 0., 0., 0.],\n",
       "        [0., 0., 0.,  ..., 0., 0., 0.],\n",
       "        [0., 0., 0.,  ..., 0., 0., 0.],\n",
       "        ...,\n",
       "        [0., 0., 0.,  ..., 0., 0., 0.],\n",
       "        [0., 0., 0.,  ..., 1., 0., 0.],\n",
       "        [0., 0., 0.,  ..., 0., 0., 0.]])"
      ]
     },
     "execution_count": 76,
     "metadata": {},
     "output_type": "execute_result"
    }
   ],
   "source": [
    "#注意这里用target.shape 就不行，因为不是数据类型\n",
    "target_onehot = torch.zeros(target.shape[0], 10) \n",
    "\n",
    "#tensor.scatter_(dim, index, src)\n",
    "#dim：在哪个维度上进行填充，这里是1 表示在列的方向上填充？\n",
    "#index：索引张量，指定要填充的张量\n",
    "#src：要填充的索引值，这里1.0 表示one_shot 中为1的位置\n",
    "# scatter_ 名字后面的下划线，不会返回一个新的张量，会修改当前张量\n",
    "#  \n",
    "target_unsqueeeze  = target.unsqueeze(1)\n",
    "print(target_unsqueeeze) # 增加一个维度 由（4898）变成 [4898,1]了\n",
    "target_onehot.scatter_(1, target_unsqueeeze, 1.0) "
   ]
  },
  {
   "cell_type": "code",
   "execution_count": 92,
   "id": "fdc7be63",
   "metadata": {},
   "outputs": [
    {
     "name": "stdout",
     "output_type": "stream",
     "text": [
      "tensor([6.8548e+00, 2.7824e-01, 3.3419e-01, 6.3914e+00, 4.5772e-02, 3.5308e+01,\n",
      "        1.3836e+02, 9.9403e-01, 3.1883e+00, 4.8985e-01, 1.0514e+01]) tensor([7.1211e-01, 1.0160e-02, 1.4646e-02, 2.5726e+01, 4.7733e-04, 2.8924e+02,\n",
      "        1.8061e+03, 8.9455e-06, 2.2801e-02, 1.3025e-02, 1.5144e+00])\n"
     ]
    },
    {
     "data": {
      "text/plain": [
       "(tensor([6.8548e+00, 2.7824e-01, 3.3419e-01, 6.3914e+00, 4.5772e-02, 3.5308e+01,\n",
       "         1.3836e+02, 9.9403e-01, 3.1883e+00, 4.8985e-01, 1.0514e+01]),\n",
       " tensor([[ 1.7208e-01, -8.1761e-02,  2.1326e-01,  ..., -1.2468e+00,\n",
       "          -3.4915e-01, -1.3930e+00],\n",
       "         [-6.5743e-01,  2.1587e-01,  4.7996e-02,  ...,  7.3995e-01,\n",
       "           1.3422e-03, -8.2419e-01],\n",
       "         [ 1.4756e+00,  1.7450e-02,  5.4378e-01,  ...,  4.7505e-01,\n",
       "          -4.3677e-01, -3.3663e-01],\n",
       "         ...,\n",
       "         [-4.2043e-01, -3.7940e-01, -1.1915e+00,  ..., -1.3130e+00,\n",
       "          -2.6153e-01, -9.0545e-01],\n",
       "         [-1.6054e+00,  1.1666e-01, -2.8253e-01,  ...,  1.0049e+00,\n",
       "          -9.6251e-01,  1.8574e+00],\n",
       "         [-1.0129e+00, -6.7703e-01,  3.7852e-01,  ...,  4.7505e-01,\n",
       "          -1.4882e+00,  1.0448e+00]]))"
      ]
     },
     "execution_count": 92,
     "metadata": {},
     "output_type": "execute_result"
    }
   ],
   "source": [
    "# 沿着列的方向，计算每一列的平均数，即获取每一个标签的数据。\n",
    "data_mean = torch.mean(data,dim = 0)\n",
    "#同样获取每一列的标准差-实际var 是方差\n",
    "data_var = torch.var(data,dim = 0)\n",
    "print(data_mean,data_var)\n",
    "#然后我们来进行归一化操作-标准差是方差的\n",
    "data_normalized = (data - data_mean)/torch.sqrt(data_var)\n",
    "data_mean,data_var \n"
   ]
  },
  {
   "cell_type": "code",
   "execution_count": 83,
   "id": "bdf2d12a",
   "metadata": {},
   "outputs": [
    {
     "name": "stdout",
     "output_type": "stream",
     "text": [
      "tensor([False, False, False,  ..., False, False, False])\n"
     ]
    },
    {
     "data": {
      "text/plain": [
       "(torch.Size([4898]), torch.bool, tensor(20))"
      ]
     },
     "execution_count": 83,
     "metadata": {},
     "output_type": "execute_result"
    }
   ],
   "source": [
    "#torch 提供比较函数，也可以用torch.le(target,3)\n",
    "bad_index = target<=3  #找出最后一列中 小于3的分数\n",
    "\n",
    "#发现是个bool的变量,会把对应小于3的设置为true\n",
    "print(bad_index)\n",
    "bad_index.shape,bad_index.dtype,bad_index.sum() \n"
   ]
  },
  {
   "cell_type": "code",
   "execution_count": 93,
   "id": "8b37c67b",
   "metadata": {},
   "outputs": [
    {
     "name": "stdout",
     "output_type": "stream",
     "text": [
      "tensor([7.6000e+00, 3.3325e-01, 3.3600e-01, 6.3925e+00, 5.4300e-02, 5.3325e+01,\n",
      "        1.7060e+02, 9.9488e-01, 3.1875e+00, 4.7450e-01, 1.0345e+01]) \r\n",
      " tensor([6.8869e+00, 2.8153e-01, 3.3644e-01, 6.7051e+00, 4.7841e-02, 3.5424e+01,\n",
      "        1.4183e+02, 9.9447e-01, 3.1808e+00, 4.8707e-01, 1.0265e+01]) \r\n",
      " tensor([6.6783e+00, 2.7797e-01, 3.2817e-01, 5.6283e+00, 3.8011e-02, 3.6628e+01,\n",
      "        1.2588e+02, 9.9221e-01, 3.2212e+00, 4.8567e-01, 1.1651e+01])\n",
      " 0 \"fixed acidity\"        7.60   6.89   6.68\n",
      " 1 \"volatile acidity\"     0.33   0.28   0.28\n",
      " 2 \"citric acid\"          0.34   0.34   0.33\n",
      " 3 \"residual sugar\"       6.39   6.71   5.63\n",
      " 4 \"chlorides\"            0.05   0.05   0.04\n",
      " 5 \"free sulfur dioxide\"  53.33  35.42  36.63\n",
      " 6 \"total sulfur dioxide\" 170.60 141.83 125.88\n",
      " 7 \"density\"              0.99   0.99   0.99\n",
      " 8 \"pH\"                   3.19   3.18   3.22\n",
      " 9 \"sulphates\"            0.47   0.49   0.49\n",
      "10 \"alcohol\"             10.34  10.26  11.65\n"
     ]
    }
   ],
   "source": [
    "#高级索引功能，直接能找到那20个索引\n",
    "bad_data = data[bad_index]\n",
    "bad_data.shape,bad_data\n",
    "#根据最后一列的目标分组\n",
    "bad_data = data[target <=3]\n",
    "mid_data = data[(target > 3) & (target < 7)]\n",
    "good_data = data[target >7]\n",
    "\n",
    "#列方向求平均\n",
    "bad_mean = torch.mean(bad_data,dim = 0)\n",
    "mid_mean = torch.mean(mid_data,dim = 0)\n",
    "good_mean = torch.mean(good_data,dim = 0)\n",
    "print(bad_mean,'\\r\\n',mid_mean,'\\r\\n',good_mean)\n",
    "\n",
    "#列方向打印出来\n",
    "for i ,args in enumerate(zip(col_list,bad_mean,mid_mean,good_mean)):\n",
    "    print('{:2} {:20} {:6.2f} {:6.2f} {:6.2f}'.format(i,*args))"
   ]
  },
  {
   "cell_type": "code",
   "execution_count": 96,
   "id": "0b892f62",
   "metadata": {},
   "outputs": [
    {
     "data": {
      "text/plain": [
       "(torch.Size([4898]), tensor(2727))"
      ]
     },
     "execution_count": 96,
     "metadata": {},
     "output_type": "execute_result"
    }
   ],
   "source": [
    "#查看了各个参数的平均值之后，我们利用`total sulfur dioxide` 这个因素来区分好酒和坏酒\n",
    "total_sulfur_threshold = 141.83 \n",
    "total_sulfur_data = data[:,6] \n",
    "#predicted_indexes = total_sulfur_data<total_sulfur_threshold\n",
    "#判断 total sulfur dioxide < 141.83 就为好酒\n",
    "predicted_indexes = torch.lt(total_sulfur_data, total_sulfur_threshold) \n",
    "predicted_indexes.shape,predicted_indexes.sum()"
   ]
  },
  {
   "cell_type": "code",
   "execution_count": 97,
   "id": "321c4824",
   "metadata": {},
   "outputs": [
    {
     "data": {
      "text/plain": [
       "(torch.Size([4898]), torch.bool, tensor(3258))"
      ]
     },
     "execution_count": 97,
     "metadata": {},
     "output_type": "execute_result"
    }
   ],
   "source": [
    "#实际好酒的数量\n",
    "actual_indexes = target > 5 \n",
    "actual_indexes.shape, actual_indexes.dtype, actual_indexes.sum() "
   ]
  },
  {
   "cell_type": "code",
   "execution_count": 99,
   "id": "42c010bc",
   "metadata": {},
   "outputs": [
    {
     "name": "stdout",
     "output_type": "stream",
     "text": [
      "2018 0.74000733406674 0.6193984039287906\n"
     ]
    }
   ],
   "source": [
    "#利用&的操作，来确定预测的是在原来好酒的数据集里面\n",
    "n_matches = torch.sum(actual_indexes & predicted_indexes).item() \n",
    "n_predicted = torch.sum(predicted_indexes).item() \n",
    "n_actual = torch.sum(actual_indexes).item() \n",
    "#预测成功数量、成功数量在预测中的比例、成功数量在实际中的比例，分别为\n",
    "# 精确率（Precision） = 预测为正的样本中，真正例的比例。\n",
    "# 召回率（Recall） = 实际为正的样本中，被正确预测的比例\n",
    "print(n_matches, n_matches / n_predicted, n_matches / n_actual )"
   ]
  },
  {
   "cell_type": "code",
   "execution_count": null,
   "id": "f14844f7",
   "metadata": {},
   "outputs": [],
   "source": []
  },
  {
   "cell_type": "code",
   "execution_count": null,
   "id": "62b09e98",
   "metadata": {},
   "outputs": [],
   "source": []
  },
  {
   "cell_type": "code",
   "execution_count": null,
   "id": "07e1ba6d",
   "metadata": {},
   "outputs": [],
   "source": []
  },
  {
   "cell_type": "code",
   "execution_count": null,
   "id": "e6650de9",
   "metadata": {},
   "outputs": [],
   "source": []
  }
 ],
 "metadata": {
  "kernelspec": {
   "display_name": "Python 3",
   "language": "python",
   "name": "python3"
  },
  "language_info": {
   "codemirror_mode": {
    "name": "ipython",
    "version": 3
   },
   "file_extension": ".py",
   "mimetype": "text/x-python",
   "name": "python",
   "nbconvert_exporter": "python",
   "pygments_lexer": "ipython3",
   "version": "3.6.13"
  }
 },
 "nbformat": 4,
 "nbformat_minor": 5
}

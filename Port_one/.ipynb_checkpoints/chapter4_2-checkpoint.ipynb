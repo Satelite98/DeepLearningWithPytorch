{
 "cells": [
  {
   "cell_type": "markdown",
   "id": "30eed32d",
   "metadata": {},
   "source": [
    "**4-4：** 这里介绍的是4-4 之后的内容，用于读取时间序列"
   ]
  },
  {
   "cell_type": "code",
   "execution_count": 11,
   "id": "a30456f7",
   "metadata": {},
   "outputs": [
    {
     "name": "stdout",
     "output_type": "stream",
     "text": [
      "torch.Size([17520, 17])\n"
     ]
    },
    {
     "data": {
      "text/plain": [
       "array(['instant', 'dteday', 'season', 'yr', 'mnth', 'hr', 'holiday',\n",
       "       'weekday', 'workingday', 'weathersit', 'temp', 'atemp', 'hum',\n",
       "       'windspeed', 'casual', 'registered', 'cnt'], dtype='<U10')"
      ]
     },
     "execution_count": 11,
     "metadata": {},
     "output_type": "execute_result"
    }
   ],
   "source": [
    "# 括 2011 — 2012 年华盛顿自行车共享系统每小时的自行车租赁数量，以及天气和季节信息\n",
    "import numpy as np\n",
    "import torch\n",
    "bike_path = \"../data/p1ch4/bike-sharing-dataset/hour-fixed.csv\"\n",
    "bike_numpy = np.loadtxt(bike_path,dtype =np.float32,delimiter = \",\",skiprows=1,\n",
    "                        converters={1: lambda x: float(x[8:10])})# 将日期字符转化\n",
    "bike_t = torch.from_numpy(bike_numpy)\n",
    "print(bike_t.shape)\n",
    "\n",
    "col_list = np.loadtxt(bike_path,dtype =str,delimiter = \",\",max_rows = 1)\n",
    "col_list"
   ]
  },
  {
   "cell_type": "code",
   "execution_count": 28,
   "id": "439f97ad",
   "metadata": {},
   "outputs": [
    {
     "name": "stdout",
     "output_type": "stream",
     "text": [
      "torch.Size([24, 17])\n",
      "tensor([1, 1, 1, 1, 1, 2, 1, 1, 1, 1, 1, 1, 1, 2, 2, 2, 2, 2, 3, 3, 2, 2, 2, 2])\n"
     ]
    },
    {
     "data": {
      "text/plain": [
       "tensor([[1., 0., 0., 0.],\n",
       "        [1., 0., 0., 0.],\n",
       "        [1., 0., 0., 0.],\n",
       "        [1., 0., 0., 0.],\n",
       "        [1., 0., 0., 0.],\n",
       "        [0., 1., 0., 0.],\n",
       "        [1., 0., 0., 0.],\n",
       "        [1., 0., 0., 0.],\n",
       "        [1., 0., 0., 0.],\n",
       "        [1., 0., 0., 0.],\n",
       "        [1., 0., 0., 0.],\n",
       "        [1., 0., 0., 0.],\n",
       "        [1., 0., 0., 0.],\n",
       "        [0., 1., 0., 0.],\n",
       "        [0., 1., 0., 0.],\n",
       "        [0., 1., 0., 0.],\n",
       "        [0., 1., 0., 0.],\n",
       "        [0., 1., 0., 0.],\n",
       "        [0., 0., 1., 0.],\n",
       "        [0., 0., 1., 0.],\n",
       "        [0., 1., 0., 0.],\n",
       "        [0., 1., 0., 0.],\n",
       "        [0., 1., 0., 0.],\n",
       "        [0., 1., 0., 0.]])"
      ]
     },
     "execution_count": 28,
     "metadata": {},
     "output_type": "execute_result"
    }
   ],
   "source": [
    "first_day = bike_t[:24].long()\n",
    "print(first_day.shape)\n",
    "weather_onehot = torch.zeros(first_day.shape[0], 4)  # 创建了一个[24,4]的tenser\n",
    "print(first_day[:,9])\n",
    "onehot_index=first_day[:,9].unsqueeze(1).long() - 1,\n",
    "#print(onehot_index)\n",
    "#weather_onehot.scatter_(dim=1,onehot_index,value=1.0)\n",
    "weather_onehot.scatter_( \n",
    "dim=1, \n",
    "    index=first_day[:,9].unsqueeze(1).long() - 1, \n",
    "    value=1.0) "
   ]
  },
  {
   "cell_type": "code",
   "execution_count": null,
   "id": "f8e03cbc",
   "metadata": {},
   "outputs": [],
   "source": [
    "torch.cat((bikes[:24], weather_onehot), 1)[:1] "
   ]
  },
  {
   "cell_type": "code",
   "execution_count": null,
   "id": "faf057ad",
   "metadata": {},
   "outputs": [],
   "source": []
  },
  {
   "cell_type": "code",
   "execution_count": null,
   "id": "3ff0612c",
   "metadata": {},
   "outputs": [],
   "source": []
  },
  {
   "cell_type": "code",
   "execution_count": null,
   "id": "17a5b740",
   "metadata": {},
   "outputs": [],
   "source": []
  },
  {
   "cell_type": "code",
   "execution_count": null,
   "id": "aeac7d84",
   "metadata": {},
   "outputs": [],
   "source": []
  },
  {
   "cell_type": "code",
   "execution_count": null,
   "id": "33c5ff7b",
   "metadata": {},
   "outputs": [],
   "source": []
  },
  {
   "cell_type": "code",
   "execution_count": null,
   "id": "80ec65f1",
   "metadata": {},
   "outputs": [],
   "source": []
  },
  {
   "cell_type": "code",
   "execution_count": null,
   "id": "54ef05ed",
   "metadata": {},
   "outputs": [],
   "source": []
  }
 ],
 "metadata": {
  "kernelspec": {
   "display_name": "Python 3",
   "language": "python",
   "name": "python3"
  },
  "language_info": {
   "codemirror_mode": {
    "name": "ipython",
    "version": 3
   },
   "file_extension": ".py",
   "mimetype": "text/x-python",
   "name": "python",
   "nbconvert_exporter": "python",
   "pygments_lexer": "ipython3",
   "version": "3.6.13"
  }
 },
 "nbformat": 4,
 "nbformat_minor": 5
}

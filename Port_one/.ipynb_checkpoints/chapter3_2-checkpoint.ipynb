{
 "cells": [
  {
   "cell_type": "code",
   "execution_count": 4,
   "id": "f1c30d24",
   "metadata": {},
   "outputs": [
    {
     "data": {
      "text/plain": [
       "(torch.float64, torch.int16)"
      ]
     },
     "execution_count": 4,
     "metadata": {},
     "output_type": "execute_result"
    }
   ],
   "source": [
    "#利用dtype 来指定类型\n",
    "import torch\n",
    "double_points = torch.ones(10,2,dtype = torch.double)\n",
    "short_points = torch.tensor([[1,2],[3,4]],dtype = torch.short)\n",
    "double_points.dtype,short_points.dtype"
   ]
  },
  {
   "cell_type": "code",
   "execution_count": 9,
   "id": "6664a42b",
   "metadata": {},
   "outputs": [
    {
     "data": {
      "text/plain": [
       "torch.float64"
      ]
     },
     "execution_count": 9,
     "metadata": {},
     "output_type": "execute_result"
    }
   ],
   "source": [
    "double_points = torch.ones(10,2).double()\n",
    "double_points.dtype"
   ]
  },
  {
   "cell_type": "code",
   "execution_count": 12,
   "id": "c707faf5",
   "metadata": {},
   "outputs": [
    {
     "data": {
      "text/plain": [
       "torch.float64"
      ]
     },
     "execution_count": 12,
     "metadata": {},
     "output_type": "execute_result"
    }
   ],
   "source": [
    "double_points = torch.ones(10,2).to(torch.double)\n",
    "double_points.dtype"
   ]
  },
  {
   "cell_type": "code",
   "execution_count": 24,
   "id": "19559602",
   "metadata": {},
   "outputs": [
    {
     "data": {
      "text/plain": [
       "(tensor([0., 0., 0., 0., 0.], dtype=torch.float64),\n",
       " tensor([0.3826, 0.7215, 0.0252, 0.4492, 0.7054], dtype=torch.float64),\n",
       " tensor([0, 0, 0, 0, 0], dtype=torch.int16))"
      ]
     },
     "execution_count": 24,
     "metadata": {},
     "output_type": "execute_result"
    }
   ],
   "source": [
    "points_64 = torch.rand(5, dtype=torch.double) \n",
    "points_short = points_64.to(torch.short) \n",
    "points_64 * points_short ,points_64,points_short"
   ]
  },
  {
   "cell_type": "markdown",
   "id": "b0a17b03",
   "metadata": {},
   "source": [
    "#### chapter 3-6 下面介绍的是张量的APi函数"
   ]
  },
  {
   "cell_type": "code",
   "execution_count": 30,
   "id": "a3771855",
   "metadata": {},
   "outputs": [
    {
     "data": {
      "text/plain": [
       "(torch.Size([3, 2]), torch.Size([2, 3]))"
      ]
     },
     "execution_count": 30,
     "metadata": {},
     "output_type": "execute_result"
    }
   ],
   "source": [
    "# 张量的形状转变\n",
    "a = torch.ones(3,2)\n",
    "a_t = a.transpose(0,1) #transpose能够用于转化 tensor 的维度，这里就将0 维和1维转化了。\n",
    "a.shape, a_t.shape"
   ]
  },
  {
   "cell_type": "markdown",
   "id": "d5c296e0",
   "metadata": {},
   "source": [
    "#### chapter 3-7 下面介绍的是张量的存储相关函数"
   ]
  },
  {
   "cell_type": "code",
   "execution_count": 32,
   "id": "a4c2c270",
   "metadata": {},
   "outputs": [
    {
     "data": {
      "text/plain": [
       " 4.0\n",
       " 1.0\n",
       " 5.0\n",
       " 3.0\n",
       " 2.0\n",
       " 1.0\n",
       "[torch.FloatStorage of size 6]"
      ]
     },
     "execution_count": 32,
     "metadata": {},
     "output_type": "execute_result"
    }
   ],
   "source": [
    "points = torch.tensor([[4.0, 1.0], [5.0, 3.0], [2.0, 1.0]]) \n",
    "points.storage()#查看tensor在内存中的存储序列,可以发现points是一个连续为存储的数组"
   ]
  },
  {
   "cell_type": "code",
   "execution_count": 34,
   "id": "7a1a8927",
   "metadata": {},
   "outputs": [
    {
     "data": {
      "text/plain": [
       "(4.0, 1.0)"
      ]
     },
     "execution_count": 34,
     "metadata": {},
     "output_type": "execute_result"
    }
   ],
   "source": [
    "points_storage = points.storage() #相当于获取这个指针？\n",
    "points_storage[0],points.storage()[1] # 两种调用方式"
   ]
  },
  {
   "cell_type": "code",
   "execution_count": 41,
   "id": "c1af0ac6",
   "metadata": {},
   "outputs": [
    {
     "name": "stdout",
     "output_type": "stream",
     "text": [
      "tensor([[ 4.,  1.],\n",
      "        [10.,  3.],\n",
      "        [ 2.,  1.]])\n"
     ]
    }
   ],
   "source": [
    "#通过内存指针直接修改数据\n",
    "points = torch.tensor([[4.0, 1.0], [5.0, 3.0], [2.0, 1.0]]) \n",
    "points_storage = points.storage()\n",
    "points_storage[2] = 10\n",
    "print(points)\n",
    "#points[0] = (3,5)"
   ]
  },
  {
   "cell_type": "code",
   "execution_count": 38,
   "id": "ccb9a709",
   "metadata": {},
   "outputs": [
    {
     "data": {
      "text/plain": [
       "tensor([[0., 0.],\n",
       "        [0., 0.],\n",
       "        [0., 0.]])"
      ]
     },
     "execution_count": 38,
     "metadata": {},
     "output_type": "execute_result"
    }
   ],
   "source": [
    "#直接通过zero_ 函数 修改tensor的值\n",
    "a = torch.ones(3, 2)\n",
    "a.zero_()\n",
    "a"
   ]
  },
  {
   "cell_type": "markdown",
   "id": "781b48f4",
   "metadata": {},
   "source": [
    "####  Chapter 3-8 介绍tensor 的大小、偏移、步长"
   ]
  },
  {
   "cell_type": "code",
   "execution_count": 46,
   "id": "32faa8d6",
   "metadata": {},
   "outputs": [
    {
     "name": "stdout",
     "output_type": "stream",
     "text": [
      "tensor([5., 3.])\n",
      "2\n",
      "torch.Size([2])\n",
      "points.stride =  (2, 1)\n",
      "second_point.stride =  (1,)\n"
     ]
    }
   ],
   "source": [
    "points = torch.tensor([[4.0, 1.0], [5.0, 3.0], [2.0, 1.0]])\n",
    "second_point = points[1]\n",
    "print(second_point)\n",
    "print(second_point.storage_offset())#storage_offset()函数，表示是这个函数距离起始指针的偏移\n",
    "print(second_point.size())#是一个大小为2的张量\n",
    "\n",
    "#stride 函数表示步长，表示该维度上增加1之后要 走过的offset\n",
    "print(\"points.stride = \",points.stride())\n",
    "print(\"second_point.stride = \",second_point.stride())\n"
   ]
  },
  {
   "cell_type": "code",
   "execution_count": 48,
   "id": "9ff6461b",
   "metadata": {},
   "outputs": [
    {
     "name": "stdout",
     "output_type": "stream",
     "text": [
      "tensor([[ 4.,  1.],\n",
      "        [10.,  3.],\n",
      "        [ 2.,  1.]])\n",
      "tensor([[4., 1.],\n",
      "        [6., 3.],\n",
      "        [2., 1.]])\n"
     ]
    }
   ],
   "source": [
    "points = torch.tensor([[4.0, 1.0], [5.0, 3.0], [2.0, 1.0]])\n",
    "#存储的还是一块地址\n",
    "second_point = points[1] \n",
    "second_point[0] = 10.0 \n",
    "print(points)\n",
    "second_point[0] = 6.0 \n",
    "\n",
    "#存储的不是一块地址\n",
    "second_point = points[1].clone()\n",
    "second_point[0] = 10.0 \n",
    "print(points)"
   ]
  },
  {
   "cell_type": "code",
   "execution_count": 57,
   "id": "309fec53",
   "metadata": {},
   "outputs": [
    {
     "name": "stdout",
     "output_type": "stream",
     "text": [
      "tensor([[4., 1.],\n",
      "        [5., 3.],\n",
      "        [2., 1.]])\n",
      "tensor([[4., 5., 2.],\n",
      "        [1., 3., 1.]])\n",
      "True\n",
      "points.stride (2, 1)\n",
      "points_t.stride (1, 2)\n"
     ]
    }
   ],
   "source": [
    "points = torch.tensor([[4.0, 1.0], [5.0, 3.0], [2.0, 1.0]]) \n",
    "print(points)\n",
    "#无复制转置\n",
    "points_t = points.t() \n",
    "print(points_t)\n",
    "#他们地址ID相同，是无复制转置\n",
    "print(id(points.storage()) == id(points_t.storage()))\n",
    "#我们可以读出points 和points_t 的stride() 步长来看看\n",
    "#print(points.storage())\n",
    "print('points.stride',points.stride())\n",
    "print('points_t.stride',points_t.stride())"
   ]
  },
  {
   "cell_type": "code",
   "execution_count": 60,
   "id": "10cd3e87",
   "metadata": {},
   "outputs": [
    {
     "name": "stdout",
     "output_type": "stream",
     "text": [
      "torch.Size([5, 4, 3])\n",
      "(20, 5, 1)\n",
      "(1, 5, 20)\n"
     ]
    }
   ],
   "source": [
    "#tensor 的转置可以任意两个维度，调用transpose 就可以了\n",
    "some_t = torch.ones(3, 4, 5) \n",
    "transpose_t = some_t.transpose(0, 2) \n",
    "print(transpose_t.shape)\n",
    "print(some_t.stride())\n",
    "#发现transpose之后，对应维度的步长也做了transpose\n",
    "print(transpose_t.stride())"
   ]
  },
  {
   "cell_type": "markdown",
   "id": "44a8bf3b",
   "metadata": {},
   "source": [
    "**连续张量：** 一个张量的值在存储区中从最右的维度开始向前排列被定义为连续张量，是要保证最右维度的数据是在内存中连续排列的。比如对于2维张量，要让列方向的数据是紧密排在一起的（就是stride() 函数为1），所以是一行一行排。简而言之，就是让stride()函数的最右侧是1."
   ]
  },
  {
   "cell_type": "code",
   "execution_count": 63,
   "id": "39dd29f4",
   "metadata": {},
   "outputs": [
    {
     "name": "stdout",
     "output_type": "stream",
     "text": [
      "True\n",
      "False\n"
     ]
    }
   ],
   "source": [
    "#用is_contiguous()可以判断是否是连续张量\n",
    "print(points.is_contiguous() )\n",
    "print(points_t.is_contiguous())"
   ]
  },
  {
   "cell_type": "code",
   "execution_count": 71,
   "id": "588e5f4c",
   "metadata": {},
   "outputs": [
    {
     "name": "stdout",
     "output_type": "stream",
     "text": [
      "tensor([[4., 5., 2.],\n",
      "        [1., 3., 1.]])\n",
      "(3, 1)\n",
      " 4.0\n",
      " 1.0\n",
      " 5.0\n",
      " 3.0\n",
      " 2.0\n",
      " 1.0\n",
      "[torch.FloatStorage of size 6]\n",
      " 4.0\n",
      " 5.0\n",
      " 2.0\n",
      " 1.0\n",
      " 3.0\n",
      " 1.0\n",
      "[torch.FloatStorage of size 6]\n",
      "True\n",
      "(2, 1)\n"
     ]
    }
   ],
   "source": [
    "#用contiguous() 可以将一个非连续张量的tensor 变成连续张量\n",
    "points = torch.tensor([[4.0, 1.0], [5.0, 3.0], [2.0, 1.0]]) \n",
    "points_t = points.t() \n",
    "points_t_cont = points_t.contiguous()\n",
    "print(points_t_cont)\n",
    "print(points_t_cont.stride())\n",
    "#观察points_t_cont 和 points的内存结构有没有改变\n",
    "print(points_t.storage())\n",
    "print(points_t_cont.storage())\n",
    "print(id(points.storage()) == id(points_t_cont.storage()))\n",
    "print(points.stride())"
   ]
  },
  {
   "cell_type": "markdown",
   "id": "9177737a",
   "metadata": {},
   "source": [
    "#### 3-10   NumPy 互操作性  "
   ]
  },
  {
   "cell_type": "code",
   "execution_count": 5,
   "id": "11c407b3",
   "metadata": {},
   "outputs": [
    {
     "name": "stdout",
     "output_type": "stream",
     "text": [
      "[[1. 1. 1. 1.]\n",
      " [1. 1. 1. 1.]\n",
      " [1. 1. 1. 1.]]\n",
      "tensor([[1., 1., 1., 1.],\n",
      "        [1., 1., 1., 1.],\n",
      "        [1., 1., 1., 1.]])\n"
     ]
    }
   ],
   "source": [
    "points = torch.ones(3, 4) \n",
    "#从tensor到数组\n",
    "points_np = points.numpy() \n",
    "print(points_np) \n",
    "#从数组到tensor\n",
    "points = torch.from_numpy(points_np) \n",
    "print(points) "
   ]
  },
  {
   "cell_type": "markdown",
   "id": "2c179312",
   "metadata": {},
   "source": [
    "#### 3.12 序列化张量，就是将张量从文件中读出或者存储"
   ]
  },
  {
   "cell_type": "code",
   "execution_count": 75,
   "id": "6fb81807",
   "metadata": {},
   "outputs": [],
   "source": [
    "torch.save(points, '../data/p1ch3/ourpoints.t') "
   ]
  },
  {
   "cell_type": "code",
   "execution_count": 76,
   "id": "6b34752b",
   "metadata": {},
   "outputs": [],
   "source": [
    "with open('../data/p1ch3/ourpoints.t','wb') as f: \n",
    "   torch.save(points, f) "
   ]
  },
  {
   "cell_type": "code",
   "execution_count": 77,
   "id": "fd438142",
   "metadata": {},
   "outputs": [
    {
     "name": "stdout",
     "output_type": "stream",
     "text": [
      "tensor([[1., 1., 1., 1.],\n",
      "        [1., 1., 1., 1.],\n",
      "        [1., 1., 1., 1.]])\n"
     ]
    }
   ],
   "source": [
    "points = torch.load('../data/p1ch3/ourpoints.t')\n",
    "print(points)"
   ]
  },
  {
   "cell_type": "code",
   "execution_count": 80,
   "id": "eec1bf6c",
   "metadata": {},
   "outputs": [
    {
     "name": "stdout",
     "output_type": "stream",
     "text": [
      "tensor([[1., 1., 1., 1.],\n",
      "        [1., 1., 1., 1.],\n",
      "        [1., 1., 1., 1.]])\n"
     ]
    }
   ],
   "source": [
    "with open('../data/p1ch3/ourpoints.t','rb') as f: \n",
    "   points_2 = torch.load(f) \n",
    "print(points_2)"
   ]
  },
  {
   "cell_type": "code",
   "execution_count": 2,
   "id": "9aa0e5f2",
   "metadata": {},
   "outputs": [],
   "source": [
    "import h5py\n",
    "#打开文件、存入数据、关闭文件\n",
    "f = h5py.File('../data/p1ch3/ourpoints.hdf5', 'w') \n",
    "#这里的`coords`可以作为一个 关键字使用，后面我们访问时，也可以直接访问这个。\n",
    "dset = f.create_dataset('coords',data=points.numpy()) \n",
    "f.close() "
   ]
  },
  {
   "cell_type": "code",
   "execution_count": 8,
   "id": "c757b48b",
   "metadata": {},
   "outputs": [
    {
     "name": "stdout",
     "output_type": "stream",
     "text": [
      "[[1. 1. 1. 1.]]\n"
     ]
    }
   ],
   "source": [
    "f = h5py.File('../data/p1ch3/ourpoints.hdf5', 'r') \n",
    "dset = f['coords'] \n",
    "last_points = dset[-1:]\n",
    "print(last_points)"
   ]
  },
  {
   "cell_type": "markdown",
   "id": "7427aeb5",
   "metadata": {},
   "source": [
    "#### 练习题"
   ]
  },
  {
   "cell_type": "code",
   "execution_count": 18,
   "id": "d4e2ba0b",
   "metadata": {
    "scrolled": true
   },
   "outputs": [
    {
     "name": "stdout",
     "output_type": "stream",
     "text": [
      "tensor([0, 1, 2, 3, 4, 5, 6, 7, 8])\n",
      "torch.Size([9])\n",
      "(1,)\n",
      "0\n"
     ]
    }
   ],
   "source": [
    "a = torch.tensor(list(range(9))) \n",
    "print(a)\n",
    "print(a.shape)\n",
    "print(a.stride())\n",
    "print(a.storage_offset())"
   ]
  },
  {
   "cell_type": "code",
   "execution_count": 21,
   "id": "df9ca01e",
   "metadata": {},
   "outputs": [
    {
     "name": "stdout",
     "output_type": "stream",
     "text": [
      "True\n",
      "tensor([0, 4, 2, 3, 4, 5, 6, 7, 8])\n"
     ]
    }
   ],
   "source": [
    "b = a.view(3,3)\n",
    "print(id(b.storage()) == id(a.storage()))\n",
    "b[0,1] = 4\n",
    "print(a)"
   ]
  },
  {
   "cell_type": "code",
   "execution_count": null,
   "id": "b3fb807a",
   "metadata": {},
   "outputs": [],
   "source": []
  }
 ],
 "metadata": {
  "kernelspec": {
   "display_name": "Python 3",
   "language": "python",
   "name": "python3"
  },
  "language_info": {
   "codemirror_mode": {
    "name": "ipython",
    "version": 3
   },
   "file_extension": ".py",
   "mimetype": "text/x-python",
   "name": "python",
   "nbconvert_exporter": "python",
   "pygments_lexer": "ipython3",
   "version": "3.6.13"
  }
 },
 "nbformat": 4,
 "nbformat_minor": 5
}
